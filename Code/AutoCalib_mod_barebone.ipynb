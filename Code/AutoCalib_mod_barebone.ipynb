{
 "cells": [
  {
   "cell_type": "code",
   "execution_count": 3,
   "metadata": {},
   "outputs": [],
   "source": [
    "import numpy as np\n",
    "import cv2\n",
    "import scipy\n",
    "import matplotlib.pyplot as plt\n",
    "import math\n",
    "import os\n",
    "from Utils.MiscUtils import *\n",
    "from Utils.ImageUtils import *\n",
    "from Utils.MathUtils import *\n",
    "import scipy.optimize \n",
    "square_side = 12.5\n",
    "# %load_ext autoreload\n",
    "# %autoreload 2\n"
   ]
  },
  {
   "cell_type": "code",
   "execution_count": 8,
   "metadata": {},
   "outputs": [],
   "source": [
    "def run(mode):\n",
    "\n",
    "    if (mode == \"ir\"):\n",
    "        folder_name = r'C:\\Users\\Asus\\Documents\\Shuna Ni\\images\\ir_mod'   #folder where IR images are stored\n",
    "        save_folder = r\"C:\\Users\\Asus\\Documents\\Shuna Ni\\images\\ir_saved\"  #folder where IR images are to be saved\n",
    "    elif (mode==\"rgb\"):\n",
    "        folder_name = r'C:\\Users\\Asus\\Documents\\Shuna Ni\\images\\rgb_mod'    #folder where RGB images are stored\n",
    "        save_folder = r\"C:\\Users\\Asus\\Documents\\Shuna Ni\\images\\rgb_saved\"  #folder where IR images are to be saved\n",
    "\n",
    "    images = loadImages(folder_name)\n",
    "    h, w = [6,7]\n",
    "    all_image_corners = getImagesPoints(images, h, w)\n",
    "    print(len(all_image_corners) , len(all_image_corners[0]))\n",
    "    world_corners = getWorldPoints(square_side, h, w)\n",
    "\n",
    "    displayCorners(images, all_image_corners, h, w, save_folder)\n",
    "\n",
    "    print(\"Calculating H for %d images\", len(images))\n",
    "    all_H_init = getAllH(all_image_corners, square_side, h, w)\n",
    "    print(\"Calculating B\")\n",
    "    B_init = getB(all_H_init)\n",
    "    print(\"Estimated B = \", B_init)\n",
    "    print(\"Calculating A\")\n",
    "    A_init = getA(B_init)\n",
    "    print(\"Initialized A = \",A_init)\n",
    "    print(\"Calculating rotation and translation\")\n",
    "    all_RT_init = getRotationAndTrans(A_init, all_H_init)\n",
    "    print(\"Init Kc\")\n",
    "    kc_init = np.array([0,0]).reshape(2,1)\n",
    "    print(\"Initialized kc = \", kc_init)\n",
    "\n",
    "\n",
    "    return A_init, kc_init, all_RT_init, all_image_corners, all_H_init, world_corners"
   ]
  },
  {
   "cell_type": "code",
   "execution_count": 9,
   "metadata": {},
   "outputs": [
    {
     "name": "stdout",
     "output_type": "stream",
     "text": [
      "Loading images from  C:\\Users\\Asus\\Documents\\Shuna Ni\\images\\rgb_mod\n",
      "7\n",
      "7 42\n",
      "Calculating H for %d images 7\n",
      "Calculating B\n",
      "B matrix is  [ 2.39542221e-06 -2.24840500e-08  2.42254636e-06 -7.56087644e-04\n",
      " -6.04368049e-04  9.99999532e-01]\n",
      "Estimated B =  [[ 2.39542221e-06 -2.24840500e-08 -7.56087644e-04]\n",
      " [-2.24840500e-08  2.42254636e-06 -6.04368049e-04]\n",
      " [-7.56087644e-04 -6.04368049e-04  9.99999532e-01]]\n",
      "Calculating A\n",
      "Initialized A =  [[503.3878367    4.69860669 318.00792333]\n",
      " [  0.         500.58360707 252.42784461]\n",
      " [  0.           0.           1.        ]]\n",
      "Calculating rotation and translation\n",
      "Init Kc\n",
      "Initialized kc =  [[0]\n",
      " [0]]\n",
      "Loading images from  C:\\Users\\Asus\\Documents\\Shuna Ni\\images\\ir_mod\n",
      "7\n",
      "7 42\n",
      "Calculating H for %d images 7\n",
      "Calculating B\n",
      "B matrix is  [ 1.08070634e-06  4.91639657e-08  1.16190843e-06 -4.02615985e-04\n",
      " -4.41719989e-04  9.99999821e-01]\n",
      "Estimated B =  [[ 1.08070634e-06  4.91639657e-08 -4.02615985e-04]\n",
      " [ 4.91639657e-08  1.16190843e-06 -4.41719989e-04]\n",
      " [-4.02615985e-04 -4.41719989e-04  9.99999821e-01]]\n",
      "Calculating A\n",
      "Initialized A =  [[802.17499181 -35.22853805 355.93932991]\n",
      " [  0.         774.38228874 365.10674072]\n",
      " [  0.           0.           1.        ]]\n",
      "Calculating rotation and translation\n",
      "Init Kc\n",
      "Initialized kc =  [[0]\n",
      " [0]]\n"
     ]
    }
   ],
   "source": [
    "#run once\n",
    "\n",
    "rgb_A, rgb_kc, rgb_rt, rgb_corners, rgb_h, wc = run(\"rgb\")\n",
    "ir_A, ir_kc, ir_rt, ir_corners, ir_h, wc_1 = run(\"ir\")"
   ]
  },
  {
   "cell_type": "code",
   "execution_count": 10,
   "metadata": {},
   "outputs": [
    {
     "name": "stdout",
     "output_type": "stream",
     "text": [
      "Re-projection error for each image [0.697342344273477, 0.5814622574160199, 0.9821334309978444, 1.0366495552007313, 0.8302213141083916, 0.6632218343292802, 0.7428255508159852]\n",
      "Mean error 0.7905508981631043\n"
     ]
    }
   ],
   "source": [
    "# reprojects control points seen by the RGB camera onto the IR camera's frame of reference and finds distance \n",
    "\n",
    "\n",
    "rgb_to_ir = []\n",
    "#calculates the homogenous transformation matrix\n",
    "for i in range(len(rgb_h)):\n",
    "    H_rgb_inv = np.linalg.inv(rgb_h[i])\n",
    "    H_ir = ir_h[i]\n",
    "    rgb_to_ir.append(np.matmul(H_ir, H_rgb_inv))\n",
    "\n",
    "# print(H_inv.shape, rgb_corners[0][0])\n",
    "error_by_image = []\n",
    "all_projections = []\n",
    "for i in range(len(rgb_corners)):\n",
    "    projections = []\n",
    "    error = 0\n",
    "    for j in range(len(rgb_corners[i])):\n",
    "        rgb_corner = rgb_corners[i][j]\n",
    "        corner2 = np.array([rgb_corner[0],rgb_corner[1],1]).reshape(3,1)\n",
    "        calculated_point_3 = np.matmul(rgb_to_ir[i],corner2)\n",
    "        calculated_point_2 = np.array([calculated_point_3[0][0]/calculated_point_3[2][0],calculated_point_3[1][0]/calculated_point_3[2][0] ])\n",
    "        projections.append(calculated_point_2)\n",
    "        actual_detected_corner = ir_corners[i][j]\n",
    "        \n",
    "        error += np.linalg.norm(calculated_point_2 - actual_detected_corner)\n",
    "    all_projections.append(projections)\n",
    "    mean_error = error/j\n",
    "    error_by_image.append(mean_error) \n",
    "\n",
    "print(\"Re-projection error for each image\", error_by_image)\n",
    "print(\"Mean error\", sum(error_by_image)/len(error_by_image))"
   ]
  },
  {
   "cell_type": "code",
   "execution_count": 11,
   "metadata": {},
   "outputs": [
    {
     "name": "stdout",
     "output_type": "stream",
     "text": [
      "Loading images from  C:\\Users\\Asus\\Documents\\Shuna Ni\\images\\ir_mod\n"
     ]
    }
   ],
   "source": [
    "open_folder = r\"C:\\Users\\Asus\\Documents\\Shuna Ni\\images\\ir_mod\" #Enter folder where IR images are stored\n",
    "save_folder = r\"C:\\Users\\Asus\\Documents\\Shuna Ni\\images\\reproj_ir\" #Enter folder where reprojected point images are to be stored\n",
    "images = loadImages(open_folder)\n",
    "for i,image in enumerate(images):\n",
    "    drawn = cv2.drawChessboardCorners(image, (7, 6), ir_corners[i], True)\n",
    "    # cv2.imshow('Chessboard',drawn)\n",
    "    # cv2.waitKey(0)\n",
    "    for point in all_projections[i]:\n",
    "        x = int(point[0])\n",
    "        y = int(point[1])\n",
    "        image = cv2.circle(drawn, (x, y), 5, (0, 0, 255), 1)\n",
    "        \n",
    "    filename = save_folder + \"\\\\\" + str(i) + \"reproj.png\"\n",
    "    cv2.imwrite(filename, image)"
   ]
  },
  {
   "cell_type": "code",
   "execution_count": null,
   "metadata": {},
   "outputs": [],
   "source": []
  }
 ],
 "metadata": {
  "kernelspec": {
   "display_name": "Python 3 (ipykernel)",
   "language": "python",
   "name": "python3"
  },
  "language_info": {
   "codemirror_mode": {
    "name": "ipython",
    "version": 3
   },
   "file_extension": ".py",
   "mimetype": "text/x-python",
   "name": "python",
   "nbconvert_exporter": "python",
   "pygments_lexer": "ipython3",
   "version": "3.11.5"
  }
 },
 "nbformat": 4,
 "nbformat_minor": 4
}
